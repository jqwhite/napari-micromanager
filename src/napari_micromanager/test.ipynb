{
 "cells": [
  {
   "cell_type": "code",
   "execution_count": 34,
   "outputs": [],
   "source": [
    "import pymmcore\n",
    "import os.path"
   ],
   "metadata": {
    "collapsed": false,
    "ExecuteTime": {
     "end_time": "2023-08-07T16:20:01.061239Z",
     "start_time": "2023-08-07T16:20:01.050595Z"
    }
   },
   "id": "2f2acb6d347b881a"
  },
  {
   "cell_type": "code",
   "execution_count": 74,
   "outputs": [],
   "source": [
    "import json\n",
    "from pymmcore_plus import CMMCorePlus, DeviceType, DeviceProperty, Device\n",
    "from pymmcore_plus import find_micromanager"
   ],
   "metadata": {
    "collapsed": false,
    "ExecuteTime": {
     "end_time": "2023-08-07T16:35:43.433351Z",
     "start_time": "2023-08-07T16:35:43.431114Z"
    }
   },
   "id": "initial_id"
  },
  {
   "cell_type": "code",
   "execution_count": 36,
   "outputs": [],
   "source": [
    "def pretty(d):\n",
    "    print(json.dumps(d, indent=4))"
   ],
   "metadata": {
    "collapsed": false,
    "ExecuteTime": {
     "end_time": "2023-08-07T16:20:01.061430Z",
     "start_time": "2023-08-07T16:20:01.056256Z"
    }
   },
   "id": "f14c039d09b9c236"
  },
  {
   "cell_type": "code",
   "execution_count": 37,
   "outputs": [
    {
     "data": {
      "text/plain": "'/Applications/Micro-Manager'"
     },
     "execution_count": 37,
     "metadata": {},
     "output_type": "execute_result"
    }
   ],
   "source": [
    "find_micromanager()"
   ],
   "metadata": {
    "collapsed": false,
    "ExecuteTime": {
     "end_time": "2023-08-07T16:20:01.244744Z",
     "start_time": "2023-08-07T16:20:01.058629Z"
    }
   },
   "id": "57a087920c2f054"
  },
  {
   "cell_type": "code",
   "execution_count": 38,
   "outputs": [],
   "source": [
    "# finding my way around a bit.\n",
    "\n",
    "mm_dir = find_micromanager()\n",
    "config_file = 'MMConfig_demo.cfg'\n",
    "\n",
    "mmc = CMMCorePlus().instance()\n",
    "mmc.setDeviceAdapterSearchPaths([mm_dir])\n",
    "mmc.loadSystemConfiguration(os.path.join(mm_dir, config_file))"
   ],
   "metadata": {
    "collapsed": false,
    "ExecuteTime": {
     "end_time": "2023-08-07T16:20:01.633648Z",
     "start_time": "2023-08-07T16:20:01.243987Z"
    }
   },
   "id": "5157c107c7fac622"
  },
  {
   "cell_type": "code",
   "execution_count": 39,
   "outputs": [
    {
     "data": {
      "text/plain": "'Device API version 71, Module API version 10'"
     },
     "execution_count": 39,
     "metadata": {},
     "output_type": "execute_result"
    }
   ],
   "source": [
    "mmc.getAPIVersionInfo()"
   ],
   "metadata": {
    "collapsed": false,
    "ExecuteTime": {
     "end_time": "2023-08-07T16:20:01.633961Z",
     "start_time": "2023-08-07T16:20:01.607620Z"
    }
   },
   "id": "c2dc444ca7fd748c"
  },
  {
   "cell_type": "code",
   "execution_count": 40,
   "outputs": [
    {
     "data": {
      "text/plain": "array([[3276, 3339, 3402, ..., 3087, 3150, 3213],\n       [3284, 3347, 3410, ..., 3095, 3158, 3221],\n       [3292, 3355, 3418, ..., 3103, 3166, 3229],\n       ...,\n       [5846, 5846, 5844, ..., 5837, 5842, 5845],\n       [5846, 5846, 5844, ..., 5838, 5842, 5845],\n       [5846, 5846, 5843, ..., 5839, 5843, 5845]], dtype=uint16)"
     },
     "execution_count": 40,
     "metadata": {},
     "output_type": "execute_result"
    }
   ],
   "source": [
    "mmc.snapImage()\n",
    "image = mmc.getImage()\n",
    "image"
   ],
   "metadata": {
    "collapsed": false,
    "ExecuteTime": {
     "end_time": "2023-08-07T16:20:01.634054Z",
     "start_time": "2023-08-07T16:20:01.607709Z"
    }
   },
   "id": "8d69b54a2be6e912"
  },
  {
   "cell_type": "code",
   "execution_count": 41,
   "outputs": [],
   "source": [
    "# mmc.loadSystemConfiguration('/Applications/Micro-Manager/MMconfig_demo.cfg')"
   ],
   "metadata": {
    "collapsed": false,
    "ExecuteTime": {
     "end_time": "2023-08-07T16:20:01.634088Z",
     "start_time": "2023-08-07T16:20:01.616557Z"
    }
   },
   "id": "92874855413c33e3"
  },
  {
   "cell_type": "code",
   "execution_count": 42,
   "outputs": [
    {
     "name": "stdout",
     "output_type": "stream",
     "text": [
      "{\n",
      "    \"Camera\": {\n",
      "        \"AllowMultiROI\": \"0\",\n",
      "        \"AsyncPropertyDelayMS\": \"2000\",\n",
      "        \"AsyncPropertyFollower\": \"\",\n",
      "        \"AsyncPropertyLeader\": \"\",\n",
      "        \"Binning\": \"1\",\n",
      "        \"BitDepth\": \"16\",\n",
      "        \"CCDTemperature\": \"0.0000\",\n",
      "        \"CCDTemperature RO\": \"0.0000\",\n",
      "        \"CameraID\": \"V1.0\",\n",
      "        \"CameraName\": \"DemoCamera-MultiMode\",\n",
      "        \"Description\": \"Demo Camera Device Adapter\",\n",
      "        \"DisplayImageNumber\": \"0\",\n",
      "        \"DropPixels\": \"0\",\n",
      "        \"Exposure\": \"10.0000\",\n",
      "        \"FastImage\": \"0\",\n",
      "        \"FractionOfPixelsToDropOrSaturate\": \"0.0020\",\n",
      "        \"Gain\": \"0\",\n",
      "        \"HubID\": \"\",\n",
      "        \"MaximumExposureMs\": \"10000.0000\",\n",
      "        \"Mode\": \"Artificial Waves\",\n",
      "        \"MultiROIFillValue\": \"0\",\n",
      "        \"Name\": \"DCam\",\n",
      "        \"Offset\": \"0\",\n",
      "        \"OnCameraCCDXSize\": \"512\",\n",
      "        \"OnCameraCCDYSize\": \"512\",\n",
      "        \"Photon Conversion Factor\": \"1.0000\",\n",
      "        \"Photon Flux\": \"50.0000\",\n",
      "        \"PixelType\": \"16bit\",\n",
      "        \"ReadNoise (electrons)\": \"2.5000\",\n",
      "        \"ReadoutTime\": \"0.0000\",\n",
      "        \"RotateImages\": \"0\",\n",
      "        \"SaturatePixels\": \"0\",\n",
      "        \"ScanMode\": \"1\",\n",
      "        \"SimulateCrash\": \"\",\n",
      "        \"StripeWidth\": \"1.0000\",\n",
      "        \"TestProperty1\": \"0.0000\",\n",
      "        \"TestProperty2\": \"0.0000\",\n",
      "        \"TestProperty3\": \"0.0000\",\n",
      "        \"TestProperty4\": \"0.0000\",\n",
      "        \"TestProperty5\": \"0.0000\",\n",
      "        \"TestProperty6\": \"0.0000\",\n",
      "        \"TransposeCorrection\": \"0\",\n",
      "        \"TransposeMirrorX\": \"0\",\n",
      "        \"TransposeMirrorY\": \"0\",\n",
      "        \"TransposeXY\": \"0\",\n",
      "        \"TriggerDevice\": \"\",\n",
      "        \"UseExposureSequences\": \"No\"\n",
      "    },\n",
      "    \"Dichroic\": {\n",
      "        \"ClosedPosition\": \"0\",\n",
      "        \"Description\": \"Demo filter wheel driver\",\n",
      "        \"HubID\": \"\",\n",
      "        \"Label\": \"400DCLP\",\n",
      "        \"Name\": \"DWheel\",\n",
      "        \"State\": \"0\"\n",
      "    },\n",
      "    \"Emission\": {\n",
      "        \"ClosedPosition\": \"0\",\n",
      "        \"Description\": \"Demo filter wheel driver\",\n",
      "        \"HubID\": \"\",\n",
      "        \"Label\": \"Chroma-HQ620\",\n",
      "        \"Name\": \"DWheel\",\n",
      "        \"State\": \"0\"\n",
      "    },\n",
      "    \"Excitation\": {\n",
      "        \"ClosedPosition\": \"0\",\n",
      "        \"Description\": \"Demo filter wheel driver\",\n",
      "        \"HubID\": \"\",\n",
      "        \"Label\": \"Chroma-D360\",\n",
      "        \"Name\": \"DWheel\",\n",
      "        \"State\": \"0\"\n",
      "    },\n",
      "    \"Objective\": {\n",
      "        \"Description\": \"Demo objective turret driver\",\n",
      "        \"HubID\": \"\",\n",
      "        \"Label\": \"Nikon 10X S Fluor\",\n",
      "        \"Name\": \"DObjective\",\n",
      "        \"State\": \"1\",\n",
      "        \"Trigger\": \"-\"\n",
      "    },\n",
      "    \"Z\": {\n",
      "        \"Description\": \"Demo stage driver\",\n",
      "        \"HubID\": \"\",\n",
      "        \"Name\": \"DStage\",\n",
      "        \"Position\": \"0.0000\",\n",
      "        \"UseSequences\": \"No\"\n",
      "    },\n",
      "    \"Path\": {\n",
      "        \"Description\": \"Demo light-path driver\",\n",
      "        \"HubID\": \"\",\n",
      "        \"Label\": \"State-0\",\n",
      "        \"Name\": \"DLightPath\",\n",
      "        \"State\": \"0\"\n",
      "    },\n",
      "    \"XY\": {\n",
      "        \"Description\": \"Demo XY stage driver\",\n",
      "        \"HubID\": \"\",\n",
      "        \"Name\": \"DXYStage\",\n",
      "        \"TransposeMirrorX\": \"0\",\n",
      "        \"TransposeMirrorY\": \"0\"\n",
      "    },\n",
      "    \"White Light Shutter\": {\n",
      "        \"Description\": \"Demo shutter driver\",\n",
      "        \"HubID\": \"\",\n",
      "        \"Name\": \"DShutter\",\n",
      "        \"State\": \"0\"\n",
      "    },\n",
      "    \"Autofocus\": {\n",
      "        \"Description\": \"Demo auto-focus adapter\",\n",
      "        \"HubID\": \"\",\n",
      "        \"Name\": \"DAutoFocus\"\n",
      "    },\n",
      "    \"LED\": {\n",
      "        \"ClosedPosition\": \"0\",\n",
      "        \"Description\": \"Demo state device driver\",\n",
      "        \"HubID\": \"\",\n",
      "        \"Label\": \"Closed\",\n",
      "        \"Name\": \"DStateDevice\",\n",
      "        \"Number of positions\": \"10\",\n",
      "        \"Sequence\": \"Off\",\n",
      "        \"State\": \"0\"\n",
      "    },\n",
      "    \"LED Shutter\": {\n",
      "        \"Description\": \"State device that is used as a shutter\",\n",
      "        \"Name\": \"State Device Shutter\",\n",
      "        \"State Device\": \"LED\"\n",
      "    },\n",
      "    \"Core\": {\n",
      "        \"AutoFocus\": \"Autofocus\",\n",
      "        \"AutoShutter\": \"1\",\n",
      "        \"Camera\": \"Camera\",\n",
      "        \"ChannelGroup\": \"Channel\",\n",
      "        \"Focus\": \"Z\",\n",
      "        \"Galvo\": \"\",\n",
      "        \"ImageProcessor\": \"\",\n",
      "        \"Initialize\": \"1\",\n",
      "        \"SLM\": \"\",\n",
      "        \"Shutter\": \"White Light Shutter\",\n",
      "        \"TimeoutMs\": \"5000\",\n",
      "        \"XYStage\": \"XY\"\n",
      "    }\n",
      "}\n"
     ]
    }
   ],
   "source": [
    "pretty(mmc.getSystemState().dict())"
   ],
   "metadata": {
    "collapsed": false,
    "ExecuteTime": {
     "end_time": "2023-08-07T16:20:01.634173Z",
     "start_time": "2023-08-07T16:20:01.618410Z"
    }
   },
   "id": "42723a8592392a76"
  },
  {
   "cell_type": "code",
   "execution_count": 43,
   "outputs": [
    {
     "data": {
      "text/plain": "('XY',)"
     },
     "execution_count": 43,
     "metadata": {},
     "output_type": "execute_result"
    }
   ],
   "source": [
    "stage = mmc.getLoadedDevicesOfType(DeviceType.XYStage)\n",
    "stage"
   ],
   "metadata": {
    "collapsed": false,
    "ExecuteTime": {
     "end_time": "2023-08-07T16:20:01.634236Z",
     "start_time": "2023-08-07T16:20:01.620517Z"
    }
   },
   "id": "566f4c0c57735c38"
  },
  {
   "cell_type": "code",
   "execution_count": 47,
   "outputs": [],
   "source": [
    "catalog = mmc.getSystemState().dict()"
   ],
   "metadata": {
    "collapsed": false,
    "ExecuteTime": {
     "end_time": "2023-08-07T16:21:12.278660Z",
     "start_time": "2023-08-07T16:21:12.274136Z"
    }
   },
   "id": "9e902000b9302c4c"
  },
  {
   "cell_type": "code",
   "execution_count": 48,
   "outputs": [
    {
     "data": {
      "text/plain": "dict_keys(['Camera', 'Dichroic', 'Emission', 'Excitation', 'Objective', 'Z', 'Path', 'XY', 'White Light Shutter', 'Autofocus', 'LED', 'LED Shutter', 'Core'])"
     },
     "execution_count": 48,
     "metadata": {},
     "output_type": "execute_result"
    }
   ],
   "source": [
    "catalog.keys()"
   ],
   "metadata": {
    "collapsed": false,
    "ExecuteTime": {
     "end_time": "2023-08-07T16:21:25.778811Z",
     "start_time": "2023-08-07T16:21:25.775488Z"
    }
   },
   "id": "21c4a78ee3f3cc17"
  },
  {
   "cell_type": "code",
   "execution_count": 49,
   "outputs": [
    {
     "data": {
      "text/plain": "{'Description': 'Demo XY stage driver',\n 'HubID': '',\n 'Name': 'DXYStage',\n 'TransposeMirrorX': '0',\n 'TransposeMirrorY': '0'}"
     },
     "execution_count": 49,
     "metadata": {},
     "output_type": "execute_result"
    }
   ],
   "source": [
    "catalog['XY']"
   ],
   "metadata": {
    "collapsed": false,
    "ExecuteTime": {
     "end_time": "2023-08-07T16:21:48.224461Z",
     "start_time": "2023-08-07T16:21:48.218319Z"
    }
   },
   "id": "d7fb773b237231f3"
  },
  {
   "cell_type": "code",
   "execution_count": 56,
   "outputs": [],
   "source": [
    "props = DeviceProperty(\"XY\",'HubID', mmc)"
   ],
   "metadata": {
    "collapsed": false,
    "ExecuteTime": {
     "end_time": "2023-08-07T16:24:13.663056Z",
     "start_time": "2023-08-07T16:24:13.659353Z"
    }
   },
   "id": "dba1dc8aaffc1606"
  },
  {
   "cell_type": "code",
   "execution_count": 44,
   "outputs": [],
   "source": [
    "mmc.setXYPosition(100,100)"
   ],
   "metadata": {
    "collapsed": false,
    "ExecuteTime": {
     "start_time": "2023-08-07T16:20:01.623244Z"
    }
   },
   "id": "77f76e8aa9c9c855"
  },
  {
   "cell_type": "code",
   "execution_count": 59,
   "outputs": [
    {
     "data": {
      "text/plain": "False"
     },
     "execution_count": 59,
     "metadata": {},
     "output_type": "execute_result"
    }
   ],
   "source": [
    "props.hasLimits()"
   ],
   "metadata": {
    "collapsed": false,
    "ExecuteTime": {
     "start_time": "2023-08-07T16:24:31.800516Z"
    }
   },
   "id": "1bf4e654f5e1eee"
  },
  {
   "cell_type": "code",
   "execution_count": 60,
   "outputs": [
    {
     "data": {
      "text/plain": "(0.0, 0.0)"
     },
     "execution_count": 60,
     "metadata": {},
     "output_type": "execute_result"
    }
   ],
   "source": [
    "props.range()"
   ],
   "metadata": {
    "collapsed": false,
    "ExecuteTime": {
     "end_time": "2023-08-07T16:25:06.450194Z",
     "start_time": "2023-08-07T16:25:06.446221Z"
    }
   },
   "id": "db4dfa7fb3b454d2"
  },
  {
   "cell_type": "code",
   "execution_count": 61,
   "outputs": [
    {
     "data": {
      "text/plain": "0.0"
     },
     "execution_count": 61,
     "metadata": {},
     "output_type": "execute_result"
    }
   ],
   "source": [
    "props.lowerLimit()"
   ],
   "metadata": {
    "collapsed": false,
    "ExecuteTime": {
     "end_time": "2023-08-07T16:25:22.197228Z",
     "start_time": "2023-08-07T16:25:22.188773Z"
    }
   },
   "id": "75a27401f9e51b36"
  },
  {
   "cell_type": "code",
   "execution_count": 62,
   "outputs": [
    {
     "data": {
      "text/plain": "0.0"
     },
     "execution_count": 62,
     "metadata": {},
     "output_type": "execute_result"
    }
   ],
   "source": [
    "props.upperLimit()"
   ],
   "metadata": {
    "collapsed": false,
    "ExecuteTime": {
     "end_time": "2023-08-07T16:25:26.971289Z",
     "start_time": "2023-08-07T16:25:26.967941Z"
    }
   },
   "id": "cd000cc5571645e5"
  },
  {
   "cell_type": "code",
   "execution_count": 63,
   "outputs": [
    {
     "data": {
      "text/plain": "()"
     },
     "execution_count": 63,
     "metadata": {},
     "output_type": "execute_result"
    }
   ],
   "source": [
    "props.allowedValues()"
   ],
   "metadata": {
    "collapsed": false,
    "ExecuteTime": {
     "end_time": "2023-08-07T16:25:35.039992Z",
     "start_time": "2023-08-07T16:25:35.027072Z"
    }
   },
   "id": "a65eb4369cf3835e"
  },
  {
   "cell_type": "code",
   "execution_count": 71,
   "outputs": [
    {
     "data": {
      "text/plain": "<PropertyType.String: 1>"
     },
     "execution_count": 71,
     "metadata": {},
     "output_type": "execute_result"
    }
   ],
   "source": [
    "props.type()"
   ],
   "metadata": {
    "collapsed": false,
    "ExecuteTime": {
     "end_time": "2023-08-07T16:26:38.224576Z",
     "start_time": "2023-08-07T16:26:38.217546Z"
    }
   },
   "id": "d3ca230af5930c0b"
  },
  {
   "cell_type": "code",
   "execution_count": 77,
   "outputs": [
    {
     "data": {
      "text/plain": "<Device 'XY' (DemoCamera::DXYStage) on CMMCorePlus at 0x1642eb600: 5 properties>"
     },
     "execution_count": 77,
     "metadata": {},
     "output_type": "execute_result"
    }
   ],
   "source": [
    "stage = Device('XY', mmc)\n",
    "stage"
   ],
   "metadata": {
    "collapsed": false,
    "ExecuteTime": {
     "end_time": "2023-08-07T16:36:04.104935Z",
     "start_time": "2023-08-07T16:36:04.094018Z"
    }
   },
   "id": "9a3a062929d8c777"
  },
  {
   "cell_type": "code",
   "execution_count": 78,
   "outputs": [
    {
     "data": {
      "text/plain": "True"
     },
     "execution_count": 78,
     "metadata": {},
     "output_type": "execute_result"
    }
   ],
   "source": [
    "stage.isLoaded()"
   ],
   "metadata": {
    "collapsed": false,
    "ExecuteTime": {
     "end_time": "2023-08-07T16:36:21.808210Z",
     "start_time": "2023-08-07T16:36:21.805210Z"
    }
   },
   "id": "11ce595cb5a7cafe"
  },
  {
   "cell_type": "code",
   "execution_count": 79,
   "outputs": [],
   "source": [
    "stage.initialize()"
   ],
   "metadata": {
    "collapsed": false,
    "ExecuteTime": {
     "end_time": "2023-08-07T16:36:31.062257Z",
     "start_time": "2023-08-07T16:36:31.054139Z"
    }
   },
   "id": "ef2557193c521247"
  },
  {
   "cell_type": "code",
   "execution_count": 80,
   "outputs": [
    {
     "data": {
      "text/plain": "'Demo XY stage'"
     },
     "execution_count": 80,
     "metadata": {},
     "output_type": "execute_result"
    }
   ],
   "source": [
    "stage.description()"
   ],
   "metadata": {
    "collapsed": false,
    "ExecuteTime": {
     "end_time": "2023-08-07T16:36:40.940547Z",
     "start_time": "2023-08-07T16:36:40.924266Z"
    }
   },
   "id": "eefe210c664116b2"
  },
  {
   "cell_type": "code",
   "execution_count": 93,
   "outputs": [
    {
     "data": {
      "text/plain": "False"
     },
     "execution_count": 93,
     "metadata": {},
     "output_type": "execute_result"
    }
   ],
   "source": [
    "stage.isBusy()"
   ],
   "metadata": {
    "collapsed": false,
    "ExecuteTime": {
     "end_time": "2023-08-07T16:39:31.116537Z",
     "start_time": "2023-08-07T16:39:31.114064Z"
    }
   },
   "id": "29d3b88fefd2b73c"
  },
  {
   "cell_type": "code",
   "execution_count": 94,
   "outputs": [
    {
     "data": {
      "text/plain": "True"
     },
     "execution_count": 94,
     "metadata": {},
     "output_type": "execute_result"
    }
   ],
   "source": [
    "stage.isLoaded()"
   ],
   "metadata": {
    "collapsed": false,
    "ExecuteTime": {
     "end_time": "2023-08-07T16:39:31.820382Z",
     "start_time": "2023-08-07T16:39:31.816686Z"
    }
   },
   "id": "2e39288296c53647"
  },
  {
   "cell_type": "code",
   "execution_count": 95,
   "outputs": [
    {
     "data": {
      "text/plain": "<DeviceType.XYStageDevice: 6>"
     },
     "execution_count": 95,
     "metadata": {},
     "output_type": "execute_result"
    }
   ],
   "source": [
    "stage.type()"
   ],
   "metadata": {
    "collapsed": false,
    "ExecuteTime": {
     "end_time": "2023-08-07T16:39:32.371465Z",
     "start_time": "2023-08-07T16:39:32.369434Z"
    }
   },
   "id": "d6f4d795139d22f2"
  },
  {
   "cell_type": "code",
   "execution_count": 100,
   "outputs": [
    {
     "data": {
      "text/plain": "(<Property 'XY::Description' on CMMCorePlus at 0x1642eb600: value='Demo XY stage driver'>,\n <Property 'XY::HubID' on CMMCorePlus at 0x1642eb600: value=''>,\n <Property 'XY::Name' on CMMCorePlus at 0x1642eb600: value='DXYStage'>,\n <Property 'XY::TransposeMirrorX' on CMMCorePlus at 0x1642eb600: value=0>,\n <Property 'XY::TransposeMirrorY' on CMMCorePlus at 0x1642eb600: value=0>)"
     },
     "execution_count": 100,
     "metadata": {},
     "output_type": "execute_result"
    }
   ],
   "source": [
    "stage.properties"
   ],
   "metadata": {
    "collapsed": false,
    "ExecuteTime": {
     "end_time": "2023-08-07T16:39:55.595466Z",
     "start_time": "2023-08-07T16:39:55.591275Z"
    }
   },
   "id": "bbed436ee4ec42e4"
  },
  {
   "cell_type": "code",
   "execution_count": 101,
   "outputs": [
    {
     "data": {
      "text/plain": "{'title': 'DXYStage',\n 'description': 'Demo XY stage',\n 'type': 'object',\n 'properties': {'Description': {'type': 'string',\n   'readOnly': True,\n   'default': 'Demo XY stage driver'},\n  'HubID': {'type': 'string', 'readOnly': True, 'default': ''},\n  'Name': {'type': 'string', 'readOnly': True, 'default': 'DXYStage'},\n  'TransposeMirrorX': {'type': 'boolean'},\n  'TransposeMirrorY': {'type': 'boolean'}}}"
     },
     "execution_count": 101,
     "metadata": {},
     "output_type": "execute_result"
    }
   ],
   "source": [
    "stage.schema()"
   ],
   "metadata": {
    "collapsed": false,
    "ExecuteTime": {
     "end_time": "2023-08-07T16:40:15.775628Z",
     "start_time": "2023-08-07T16:40:15.772081Z"
    }
   },
   "id": "8374baaa61d57f7c"
  },
  {
   "cell_type": "code",
   "execution_count": null,
   "outputs": [],
   "source": [],
   "metadata": {
    "collapsed": false
   },
   "id": "2f3e33a05a392d60"
  },
  {
   "cell_type": "code",
   "execution_count": null,
   "outputs": [],
   "source": [],
   "metadata": {
    "collapsed": false
   },
   "id": "88a7eb0141947aa2"
  },
  {
   "cell_type": "code",
   "execution_count": null,
   "outputs": [],
   "source": [],
   "metadata": {
    "collapsed": false
   },
   "id": "c4a9e9b883355825"
  }
 ],
 "metadata": {
  "kernelspec": {
   "display_name": "Python 3",
   "language": "python",
   "name": "python3"
  },
  "language_info": {
   "codemirror_mode": {
    "name": "ipython",
    "version": 2
   },
   "file_extension": ".py",
   "mimetype": "text/x-python",
   "name": "python",
   "nbconvert_exporter": "python",
   "pygments_lexer": "ipython2",
   "version": "2.7.6"
  }
 },
 "nbformat": 4,
 "nbformat_minor": 5
}
